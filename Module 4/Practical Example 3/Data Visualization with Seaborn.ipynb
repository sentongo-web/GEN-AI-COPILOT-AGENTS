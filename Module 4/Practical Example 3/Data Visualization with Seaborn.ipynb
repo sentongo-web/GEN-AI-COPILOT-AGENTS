{
 "cells": [
  {
   "cell_type": "markdown",
   "metadata": {
    "id": "WnhpHVK2bH3s"
   },
   "source": [
    "# 1. SEABORN SCATTERPLOT & COUNTPLOT"
   ]
  },
  {
   "cell_type": "code",
   "execution_count": null,
   "metadata": {
    "id": "2kT8CoYvIEIs"
   },
   "outputs": [],
   "source": [
    "# Seaborn is a visualization library that sits on top of matplotlib\n",
    "# Seaborn offers enhanced features compared to matplotlib\n",
    "# https://seaborn.pydata.org/examples/index.html\n",
    "\n",
    "# import libraries \n",
    "import pandas as pd # Import Pandas for data manipulation using dataframes\n",
    "import numpy as np # Import Numpy for data statistical analysis \n",
    "import matplotlib.pyplot as plt # Import matplotlib for data visualisation\n",
    "import seaborn as sns # Statistical data visualization"
   ]
  },
  {
   "cell_type": "code",
   "execution_count": null,
   "metadata": {},
   "outputs": [],
   "source": [
    "import warnings\n",
    "warnings.filterwarnings(\"ignore\")"
   ]
  },
  {
   "cell_type": "code",
   "execution_count": null,
   "metadata": {},
   "outputs": [],
   "source": [
    "# Import Cancer data \n",
    "cancer_df = pd.read_csv('cancer.csv')"
   ]
  },
  {
   "cell_type": "code",
   "execution_count": null,
   "metadata": {
    "colab": {
     "base_uri": "https://localhost:8080/"
    },
    "executionInfo": {
     "elapsed": 459,
     "status": "ok",
     "timestamp": 1606272260352,
     "user": {
      "displayName": "Stemplicity",
      "photoUrl": "https://lh3.googleusercontent.com/a-/AOh14Gj2vCFt-bD5mPBhUWX0QA6xiBgoXQXtwUm2jgjaCg=s64",
      "userId": "10668071569687886186"
     },
     "user_tz": 300
    },
    "id": "Y5w4VqKCHvox",
    "outputId": "df0cfb58-8e0f-4c15-8b10-297e0ba9658a"
   },
   "outputs": [],
   "source": [
    "cancer_df"
   ]
  },
  {
   "cell_type": "code",
   "execution_count": null,
   "metadata": {
    "colab": {
     "base_uri": "https://localhost:8080/",
     "height": 253
    },
    "executionInfo": {
     "elapsed": 600,
     "status": "ok",
     "timestamp": 1606272265418,
     "user": {
      "displayName": "Stemplicity",
      "photoUrl": "https://lh3.googleusercontent.com/a-/AOh14Gj2vCFt-bD5mPBhUWX0QA6xiBgoXQXtwUm2jgjaCg=s64",
      "userId": "10668071569687886186"
     },
     "user_tz": 300
    },
    "id": "BCBZU_VQoqIz",
    "outputId": "7fb214e4-5bf7-40be-dede-2094f655d038"
   },
   "outputs": [],
   "source": [
    "# Check out the head of the dataframe\n",
    "cancer_df.head()"
   ]
  },
  {
   "cell_type": "code",
   "execution_count": null,
   "metadata": {
    "colab": {
     "base_uri": "https://localhost:8080/",
     "height": 253
    },
    "executionInfo": {
     "elapsed": 371,
     "status": "ok",
     "timestamp": 1606272268981,
     "user": {
      "displayName": "Stemplicity",
      "photoUrl": "https://lh3.googleusercontent.com/a-/AOh14Gj2vCFt-bD5mPBhUWX0QA6xiBgoXQXtwUm2jgjaCg=s64",
      "userId": "10668071569687886186"
     },
     "user_tz": 300
    },
    "id": "8XkZE6jCdfBS",
    "outputId": "ba61ac43-0a36-447d-c2a6-a3ddabdcd483"
   },
   "outputs": [],
   "source": [
    "# Check out the tail of the dataframe\n",
    "cancer_df.tail()"
   ]
  },
  {
   "cell_type": "code",
   "execution_count": null,
   "metadata": {},
   "outputs": [],
   "source": [
    "sns.scatterplot(x = 'mean area', y = 'mean smoothness', data = cancer_df)"
   ]
  },
  {
   "cell_type": "code",
   "execution_count": null,
   "metadata": {
    "colab": {
     "base_uri": "https://localhost:8080/",
     "height": 297
    },
    "executionInfo": {
     "elapsed": 750,
     "status": "ok",
     "timestamp": 1606272272190,
     "user": {
      "displayName": "Stemplicity",
      "photoUrl": "https://lh3.googleusercontent.com/a-/AOh14Gj2vCFt-bD5mPBhUWX0QA6xiBgoXQXtwUm2jgjaCg=s64",
      "userId": "10668071569687886186"
     },
     "user_tz": 300
    },
    "id": "atb9g7nGo1Zf",
    "outputId": "c7528089-9c43-456a-85f6-366c6b3abdd2"
   },
   "outputs": [],
   "source": [
    "# Plot scatter plot between mean area and mean smoothness\n",
    "sns.scatterplot(x = 'mean area', y = 'mean smoothness', hue = 'target', data = cancer_df)"
   ]
  },
  {
   "cell_type": "code",
   "execution_count": null,
   "metadata": {
    "colab": {
     "base_uri": "https://localhost:8080/",
     "height": 354
    },
    "executionInfo": {
     "elapsed": 422,
     "status": "ok",
     "timestamp": 1606272272788,
     "user": {
      "displayName": "Stemplicity",
      "photoUrl": "https://lh3.googleusercontent.com/a-/AOh14Gj2vCFt-bD5mPBhUWX0QA6xiBgoXQXtwUm2jgjaCg=s64",
      "userId": "10668071569687886186"
     },
     "user_tz": 300
    },
    "id": "rc3p4fBso1XA",
    "outputId": "c12aed14-c128-452b-a8cd-3a3e8b1cf268"
   },
   "outputs": [],
   "source": [
    "# Let's print out countplot to know how many samples belong to class #0 and #1\n",
    "sns.countplot(cancer_df['target']) "
   ]
  },
  {
   "cell_type": "markdown",
   "metadata": {
    "id": "RIpzECOpcFa5"
   },
   "source": [
    "**MINI CHALLENGE #1:**\n",
    "- **Plot the scatterplot between the mean radius and mean area. Comment on the plot** \n"
   ]
  },
  {
   "cell_type": "code",
   "execution_count": null,
   "metadata": {
    "id": "14dehTx3dNAw"
   },
   "outputs": [],
   "source": []
  },
  {
   "cell_type": "markdown",
   "metadata": {
    "id": "Al9AW2YLbezU"
   },
   "source": [
    "# 2. SEABORN PAIRPLOT, DISPLOT, AND HEATMAPS/CORRELATIONS"
   ]
  },
  {
   "cell_type": "code",
   "execution_count": null,
   "metadata": {
    "colab": {
     "base_uri": "https://localhost:8080/",
     "height": 921
    },
    "executionInfo": {
     "elapsed": 13800,
     "status": "ok",
     "timestamp": 1606272299664,
     "user": {
      "displayName": "Stemplicity",
      "photoUrl": "https://lh3.googleusercontent.com/a-/AOh14Gj2vCFt-bD5mPBhUWX0QA6xiBgoXQXtwUm2jgjaCg=s64",
      "userId": "10668071569687886186"
     },
     "user_tz": 300
    },
    "id": "DYsVoE4ko1Up",
    "outputId": "784e08d7-0a19-4c90-b731-e17014f04a85"
   },
   "outputs": [],
   "source": [
    "# Plot the pairplot\n",
    "sns.pairplot(cancer_df, hue = 'target', vars = ['mean radius', 'mean texture', 'mean area', 'mean perimeter', 'mean smoothness'] )"
   ]
  },
  {
   "cell_type": "code",
   "execution_count": null,
   "metadata": {
    "colab": {
     "base_uri": "https://localhost:8080/"
    },
    "executionInfo": {
     "elapsed": 16598,
     "status": "ok",
     "timestamp": 1606272303872,
     "user": {
      "displayName": "Stemplicity",
      "photoUrl": "https://lh3.googleusercontent.com/a-/AOh14Gj2vCFt-bD5mPBhUWX0QA6xiBgoXQXtwUm2jgjaCg=s64",
      "userId": "10668071569687886186"
     },
     "user_tz": 300
    },
    "id": "u_UzA1GFo1cK",
    "outputId": "f277a152-7741-4c03-bfe4-46dbcb534fc3"
   },
   "outputs": [],
   "source": [
    "# Strong correlation between the mean radius and mean perimeter, mean area and mean primeter\n",
    "plt.figure(figsize = (20, 10)) \n",
    "sns.heatmap(cancer_df.corr(), annot = True) "
   ]
  },
  {
   "cell_type": "code",
   "execution_count": null,
   "metadata": {
    "colab": {
     "base_uri": "https://localhost:8080/",
     "height": 354
    },
    "executionInfo": {
     "elapsed": 15038,
     "status": "ok",
     "timestamp": 1606272304095,
     "user": {
      "displayName": "Stemplicity",
      "photoUrl": "https://lh3.googleusercontent.com/a-/AOh14Gj2vCFt-bD5mPBhUWX0QA6xiBgoXQXtwUm2jgjaCg=s64",
      "userId": "10668071569687886186"
     },
     "user_tz": 300
    },
    "id": "m01UPXL9pGsM",
    "outputId": "e1abf031-8134-48b4-e351-a4121a007224"
   },
   "outputs": [],
   "source": [
    "# plot the distplot \n",
    "# Displot combines matplotlib histogram function with kdeplot() (Kernel density estimate)\n",
    "# KDE is used to plot the Probability Density of a continuous variable. \n",
    "\n",
    "sns.distplot(cancer_df['mean radius'], bins = 25, color = 'blue')"
   ]
  },
  {
   "cell_type": "markdown",
   "metadata": {
    "id": "BlEUElj_gGrm"
   },
   "source": [
    "**MINI CHALLENGE #2:**\n",
    "- **Plot two separate distplot for each target class #0 and target class #1**\n"
   ]
  },
  {
   "cell_type": "code",
   "execution_count": null,
   "metadata": {
    "id": "JPrD3KlngIcb"
   },
   "outputs": [],
   "source": []
  },
  {
   "cell_type": "markdown",
   "metadata": {
    "id": "_o555HjYbtlP"
   },
   "source": [
    "# EXCELLENT JOB!"
   ]
  },
  {
   "cell_type": "markdown",
   "metadata": {
    "id": "-iXHoC8PbwSg"
   },
   "source": [
    "# MINI CHALLENGE SOLUTIONS:"
   ]
  },
  {
   "cell_type": "markdown",
   "metadata": {
    "id": "GTN9KMR7dIWt"
   },
   "source": [
    "**MINI CHALLENGE #1 SOLUTION:**\n",
    "- **Plot the scatterplot between the mean radius and mean area. Comment on the plot** \n"
   ]
  },
  {
   "cell_type": "code",
   "execution_count": null,
   "metadata": {
    "colab": {
     "base_uri": "https://localhost:8080/",
     "height": 297
    },
    "executionInfo": {
     "elapsed": 438,
     "status": "ok",
     "timestamp": 1600218354209,
     "user": {
      "displayName": "Stemplicity",
      "photoUrl": "https://lh3.googleusercontent.com/a-/AOh14Gj2vCFt-bD5mPBhUWX0QA6xiBgoXQXtwUm2jgjaCg=s64",
      "userId": "10668071569687886186"
     },
     "user_tz": 240
    },
    "id": "jo00_TzudIWw",
    "outputId": "13c251db-5934-46b4-c2df-43c069663e30"
   },
   "outputs": [],
   "source": [
    "sns.scatterplot(x = 'mean radius', y = 'mean area', hue = 'target', data = cancer_df)\n",
    "# As mean radius increases, mean area increases \n",
    "# class #0 generally has larger mean radius and mean area compared to class #1"
   ]
  },
  {
   "cell_type": "markdown",
   "metadata": {
    "id": "f5qD9kzIeQZE"
   },
   "source": [
    "**MINI CHALLENGE #2 SOLUTION:**\n",
    "- **Plot two separate distplot for each target class #0 and target class #1**\n"
   ]
  },
  {
   "cell_type": "code",
   "execution_count": null,
   "metadata": {
    "id": "YX0FkgQGfLbC"
   },
   "outputs": [],
   "source": [
    "class_0_df = cancer_df[ cancer_df['target']==0 ]\n",
    "class_1_df = cancer_df[ cancer_df['target']==1 ]"
   ]
  },
  {
   "cell_type": "code",
   "execution_count": null,
   "metadata": {
    "colab": {
     "base_uri": "https://localhost:8080/",
     "height": 470
    },
    "executionInfo": {
     "elapsed": 290,
     "status": "ok",
     "timestamp": 1600219090055,
     "user": {
      "displayName": "Stemplicity",
      "photoUrl": "https://lh3.googleusercontent.com/a-/AOh14Gj2vCFt-bD5mPBhUWX0QA6xiBgoXQXtwUm2jgjaCg=s64",
      "userId": "10668071569687886186"
     },
     "user_tz": 240
    },
    "id": "D1DTuyaIfX-e",
    "outputId": "d605ac7c-e93b-401d-9321-a8c56c4c3b3a"
   },
   "outputs": [],
   "source": [
    "class_0_df"
   ]
  },
  {
   "cell_type": "code",
   "execution_count": null,
   "metadata": {
    "colab": {
     "base_uri": "https://localhost:8080/",
     "height": 470
    },
    "executionInfo": {
     "elapsed": 284,
     "status": "ok",
     "timestamp": 1600219102182,
     "user": {
      "displayName": "Stemplicity",
      "photoUrl": "https://lh3.googleusercontent.com/a-/AOh14Gj2vCFt-bD5mPBhUWX0QA6xiBgoXQXtwUm2jgjaCg=s64",
      "userId": "10668071569687886186"
     },
     "user_tz": 240
    },
    "id": "cftPJApPfaUm",
    "outputId": "5d57ebca-df08-4007-dcf2-b0a55ea1d9e2"
   },
   "outputs": [],
   "source": [
    "class_1_df"
   ]
  },
  {
   "cell_type": "code",
   "execution_count": null,
   "metadata": {
    "colab": {
     "base_uri": "https://localhost:8080/",
     "height": 442
    },
    "executionInfo": {
     "elapsed": 566,
     "status": "ok",
     "timestamp": 1600219198882,
     "user": {
      "displayName": "Stemplicity",
      "photoUrl": "https://lh3.googleusercontent.com/a-/AOh14Gj2vCFt-bD5mPBhUWX0QA6xiBgoXQXtwUm2jgjaCg=s64",
      "userId": "10668071569687886186"
     },
     "user_tz": 240
    },
    "id": "hN10mhlzefSO",
    "outputId": "4ccb6979-e658-414d-a1a6-f006dc66e4cb"
   },
   "outputs": [],
   "source": [
    "# Plot the distplot for both classes\n",
    "plt.figure(figsize=(10, 7))\n",
    "sns.distplot(class_0_df['mean radius'], bins = 25, color = 'blue')\n",
    "sns.distplot(class_1_df['mean radius'], bins = 25, color = 'red')\n",
    "plt.grid()"
   ]
  },
  {
   "cell_type": "code",
   "execution_count": null,
   "metadata": {},
   "outputs": [],
   "source": []
  }
 ],
 "metadata": {
  "colab": {
   "authorship_tag": "ABX9TyOLo+8R0f/a9EEyKFrkmRW5",
   "collapsed_sections": [],
   "name": "Copy of Python 101 - Data Visualization with Seaborn.ipynb",
   "provenance": [
    {
     "file_id": "1UE9iWv23VYthcAbPzSUUl5Sl0TjRSRrd",
     "timestamp": 1606282888741
    }
   ]
  },
  "kernelspec": {
   "display_name": "Python 3 (ipykernel)",
   "language": "python",
   "name": "python3"
  },
  "language_info": {
   "codemirror_mode": {
    "name": "ipython",
    "version": 3
   },
   "file_extension": ".py",
   "mimetype": "text/x-python",
   "name": "python",
   "nbconvert_exporter": "python",
   "pygments_lexer": "ipython3",
   "version": "3.8.8"
  }
 },
 "nbformat": 4,
 "nbformat_minor": 1
}
